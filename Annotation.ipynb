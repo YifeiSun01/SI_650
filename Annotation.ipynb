{
 "cells": [
  {
   "cell_type": "code",
   "execution_count": null,
   "id": "089f9a94",
   "metadata": {},
   "outputs": [],
   "source": [
    "query = pd.read_csv(\"/content/drive/MyDrive/650data/query.csv\",encoding=\"latin1\")\n",
    "query['qid'] = query.qid.astype(str)\n",
    "query['query'][16] = 'The first montage in the history of cinema directed by a Soviet director'\n",
    "query#.head(20)"
   ]
  },
  {
   "cell_type": "code",
   "execution_count": null,
   "id": "23c459aa",
   "metadata": {},
   "outputs": [],
   "source": [
    "bm25_df = bm25.transform(query)\n",
    "tfidf_df = tfidf.transform(query)\n",
    "DFIZ_df = DFIZ.transform(query)\n",
    "DirichletLM_df = DirichletLM.transform(query)"
   ]
  },
  {
   "cell_type": "code",
   "execution_count": null,
   "id": "26badb90",
   "metadata": {},
   "outputs": [],
   "source": [
    "all_concat = pd.concat(frames)[['qid','docid','docno','query']]\n",
    "annotation = all_concat.drop_duplicates()\n",
    "annotation"
   ]
  },
  {
   "cell_type": "code",
   "execution_count": null,
   "id": "11e5b753",
   "metadata": {},
   "outputs": [],
   "source": [
    "annotation_all = annotation.merge(final_document, on = \"docno\", how = 'left')[['qid','docid','docno','query','title','imdb_id']]\n",
    "annotation_all['url'] = \"https://www.imdb.com/title/\" + annotation_all['imdb_id']\n",
    "annotation_all['relevance_score'] = 0\n",
    "annotation_all"
   ]
  },
  {
   "cell_type": "code",
   "execution_count": null,
   "id": "14643d48",
   "metadata": {},
   "outputs": [],
   "source": [
    "annotation_all['qid'] = annotation_all.qid.astype(int)\n",
    "annotation_all = annotation_all.sort_values(['qid'])\n",
    "annotation_all"
   ]
  }
 ],
 "metadata": {
  "kernelspec": {
   "display_name": "Python 3 (ipykernel)",
   "language": "python",
   "name": "python3"
  },
  "language_info": {
   "codemirror_mode": {
    "name": "ipython",
    "version": 3
   },
   "file_extension": ".py",
   "mimetype": "text/x-python",
   "name": "python",
   "nbconvert_exporter": "python",
   "pygments_lexer": "ipython3",
   "version": "3.9.12"
  }
 },
 "nbformat": 4,
 "nbformat_minor": 5
}
